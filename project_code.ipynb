{
 "cells": [
  {
   "cell_type": "markdown",
   "metadata": {},
   "source": [
    "### Podatkovno rudarjenje, koda za vmesno poročilo o opravljenem delu, 01. 04. 2019\n",
    "\n",
    "# Priprava podatkov in osnovna vizualizacija"
   ]
  },
  {
   "cell_type": "markdown",
   "metadata": {},
   "source": [
    "**Nejc Prijatelj**\n",
    "\n",
    "**Žan Pristopec**\n",
    "\n",
    "**Matevž Kušar**"
   ]
  },
  {
   "cell_type": "markdown",
   "metadata": {},
   "source": [
    "V tem notebook-u bomo pisali kodo za obdelavo podatkov, iz katerih bomo s pomočjo pythona, statistike in vizualizacije poiskusili odgovoriti na čim več vprašanj, ki smo si jih zastavili pri izbiri projekta."
   ]
  },
  {
   "cell_type": "markdown",
   "metadata": {},
   "source": [
    "## Podatki\n",
    "\n",
    "Kratek opis podatkov je bil podan že pri osnutku projekta, tu pa bi si najprej na hitro pogledali kaj točno dani podatki vsebujejo. Link do podatkov(https://www.kaggle.com/russellyates88/suicide-rates-overview-1985-to-2016).\n",
    "\n",
    "Vse podatke ki smo jih dobili s spletne strani Kaggle hranimo v datoteki \"master.csv\".\n",
    "\n",
    "Vsak podatek v tej zbirki ima naslednje atribute:\n",
    "* *country:* država v kateri so bili zabeleženi samomori.\n",
    "* *year:* leto na katerega se nanašajo podatki.\n",
    "* *sex:* spol starostne skupine za to leto.\n",
    "* *age_group:* starostna skupina.\n",
    "* *count_of_suicides:* število samomorov za to leto.\n",
    "* *population:* število oseb določenega spola v tem letu, za to starostno skupino.\n",
    "* *suicide_rate:* pogostost samomorov - število samomorov na 100 tisoč ljudi.\n",
    "* *country-year_composite_key:* država-leto ključ.\n",
    "* *HDI_for_year:* indeks človekovega razvoja (izračunano iz življenjske dobe, stopnje izobrazbe in življenjske ravni).\n",
    "* *GDP_for_year:* bruto domači proizvod države za tisto leto.\n",
    "* *GDP_per_capita:* bruto domači proizvod na prebivalca države za tisto leto.\n",
    "* *generation:* generacija (temelji na povprečju starostne skupine).\n",
    "\n",
    "S pomočjo zgoraj naštetih atributov bomo v vmesnem poročilu podatke prebrali, ter jih vizualno predstavili.\n"
   ]
  },
  {
   "cell_type": "markdown",
   "metadata": {},
   "source": [
    "### Pridobivanje podatkov\n",
    "\n",
    "Najprej smo vse podatke prebrali v panda data frame s spodaj napisano funkcijo, in v vsaki tabeli spremenili datume tako, da so bolj po našem okusu."
   ]
  },
  {
   "cell_type": "code",
   "execution_count": null,
   "metadata": {},
   "outputs": [],
   "source": []
  },
  {
   "cell_type": "markdown",
   "metadata": {},
   "source": [
    "### Nekaj vizualnih predstavitev\n",
    "\n",
    "Ker je tako velika količina podatkov prevelika da bi iz nje lahko kar tako ugotovili določene zanimive lastnosti, smo se odločili da bomo najprej naredili nekaj grafov da dobimo občutek s čem imamo opravka, in da predstavimo nekatere bolj zanimive podatke."
   ]
  },
  {
   "cell_type": "markdown",
   "metadata": {},
   "source": []
  },
  {
   "cell_type": "code",
   "execution_count": null,
   "metadata": {},
   "outputs": [],
   "source": []
  },
  {
   "cell_type": "code",
   "execution_count": null,
   "metadata": {},
   "outputs": [],
   "source": []
  },
  {
   "cell_type": "code",
   "execution_count": null,
   "metadata": {},
   "outputs": [],
   "source": []
  },
  {
   "cell_type": "code",
   "execution_count": null,
   "metadata": {},
   "outputs": [],
   "source": []
  },
  {
   "cell_type": "code",
   "execution_count": null,
   "metadata": {},
   "outputs": [],
   "source": []
  }
 ],
 "metadata": {
  "kernelspec": {
   "display_name": "Python 3",
   "language": "python",
   "name": "python3"
  },
  "language_info": {
   "codemirror_mode": {
    "name": "ipython",
    "version": 3
   },
   "file_extension": ".py",
   "mimetype": "text/x-python",
   "name": "python",
   "nbconvert_exporter": "python",
   "pygments_lexer": "ipython3",
   "version": "3.7.1"
  }
 },
 "nbformat": 4,
 "nbformat_minor": 2
}
