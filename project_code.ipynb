{
 "cells": [
  {
   "cell_type": "markdown",
   "metadata": {},
   "source": [
    "### Podatkovno rudarjenje, koda za vmesno poročilo o opravljenem delu, 12. 4. 2018\n",
    "\n",
    "# Priprava podatkov in osnovna vizualizacija"
   ]
  },
  {
   "cell_type": "markdown",
   "metadata": {},
   "source": [
    "**Nejc Prijatelj**\n",
    "\n",
    "**Žan Pristopec**\n",
    "\n",
    "**Matevž Kušar**"
   ]
  },
  {
   "cell_type": "markdown",
   "metadata": {},
   "source": [
    "V tem notebook-u bomo pisali kodo za obdelavo podatkov, iz katerih bomo s pomočjo pythona, statistike in vizualizacije poiskusili odgovoriti na čim več vprašanj, ki smo si jih zastavili pri izbiri projekta."
   ]
  },
  {
   "cell_type": "markdown",
   "metadata": {},
   "source": [
    "## Podatki\n",
    "\n",
    "Kratek opis podatkov je bil podan že pri osnutku projekta, tu pa bi si najprej na hitro pogledali kaj točno dani podatki vsebujejo. Link do podatkov(https://www.kaggle.com/datasnaek/youtube-new/data).\n",
    "\n",
    "Vse podatke ki smo jih dobili s spletne strani Kaggle hranimo v diretktoriju \"data\" in so sledeči:\n",
    "\n",
    "* *CAvideos.csv:* podatki o trendih videih za Kanado,\n",
    "* *DEvideos.csv:* podatki o trendih videih za Nemčijo,\n",
    "* *FRvideos.csv:* podatki o trendih videih za Francijo,\n",
    "* *GBvideos.csv:* podatki o trendih videih za Veliko Britanijo,\n",
    "* *USvideos.csv:* podatki o trendih videih za Združene Države,\n",
    "\n",
    "Vsak podatek v tej zbirki ima naslednje atribute:\n",
    "* *video_id:* je kar link do videa, in je za vsak vnesen podatek unikaten.\n",
    "* *trending_date:* datum, katerega je bil video trending.\n",
    "* *title:* naslov videa.\n",
    "* *channel_title:* ime youtube kanala ki je video naložil na youtube.\n",
    "* *category_id:* id kategorije v katero spada video.\n",
    "* *publish_time:* kdaj je bil video naložen.\n",
    "* *tags:* ključne besede ki opisujejo video.\n",
    "* *views:* število ogledov.\n",
    "* *likes:* število pozitivnih odzivov.\n",
    "* *dislikes:* število negativnih odzivov.\n",
    "* *comment_count:* število komentarjev.\n",
    "* *thumbnail_link:* link do thumbnaila.\n",
    "* *comments_disabled:* onemogočeni komentarji(true/false).\n",
    "* *ratings_disabled:* onemogočen odziv na video(true/false).\n",
    "* *video_error_or_removed:* če je bil video odstranjen(true/false).\n",
    "* *description:* opis.\n",
    "\n",
    "Poleg petih že naštetih csv datotek pa podatkovna zbirka vsebuje še pet json datotek, v katerih je podrobneje opisan atribut *category_id* za vsako regijo. Na kratko povedano nam pove kaj pomeni naprimer category_id = 10 &rarr; \"music\".\n"
   ]
  },
  {
   "cell_type": "markdown",
   "metadata": {},
   "source": [
    "### Pridobivanje podatkov\n",
    "\n",
    "Najprej smo vse podatke prebrali v panda data frame s spodaj napisano funkcijo, in v vsaki tabeli spremenili datume tako, da so bolj po našem okusu."
   ]
  },
  {
   "cell_type": "code",
   "execution_count": null,
   "metadata": {},
   "outputs": [],
   "source": []
  },
  {
   "cell_type": "markdown",
   "metadata": {},
   "source": [
    "### Nekaj vizualnih predstavitev\n",
    "\n",
    "Ker je tako velika količina podatkov prevelika da bi iz nje lahko kar tako ugotovili določene zanimive lastnosti, smo se odločili da bomo najprej naredili nekaj grafov da dobimo občutek s čem imamo opravka, in da predstavimo nekatere bolj zanimive podatke."
   ]
  },
  {
   "cell_type": "markdown",
   "metadata": {},
   "source": []
  }
 ],
 "metadata": {
  "kernelspec": {
   "display_name": "Python 3",
   "language": "python",
   "name": "python3"
  },
  "language_info": {
   "codemirror_mode": {
    "name": "ipython",
    "version": 3
   },
   "file_extension": ".py",
   "mimetype": "text/x-python",
   "name": "python",
   "nbconvert_exporter": "python",
   "pygments_lexer": "ipython3",
   "version": "3.7.1"
  }
 },
 "nbformat": 4,
 "nbformat_minor": 2
}
