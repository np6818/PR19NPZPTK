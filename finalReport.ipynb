{
 "cells": [
  {
   "cell_type": "markdown",
   "metadata": {},
   "source": [
    "### Podatkovno rudarjenje, koda za vmesno poročilo o opravljenem delu, 01. 04. 2019\n",
    "\n",
    "# Priprava podatkov in osnovna vizualizacija"
   ]
  },
  {
   "cell_type": "markdown",
   "metadata": {},
   "source": [
    "**Nejc Prijatelj**\n",
    "\n",
    "**Žan Pristopec**\n",
    "\n",
    "**Matevž Kušar**"
   ]
  },
  {
   "cell_type": "markdown",
   "metadata": {},
   "source": [
    "V tem notebook-u bomo pisali kodo za obdelavo podatkov, iz katerih bomo s pomočjo pythona, statistike in vizualizacije poiskusili odgovoriti na čim več vprašanj, ki smo si jih zastavili pri izbiri projekta."
   ]
  },
  {
   "cell_type": "markdown",
   "metadata": {},
   "source": [
    "## Podatki\n",
    "\n",
    "Kratek opis podatkov je bil podan že pri osnutku projekta, tu pa bi si najprej na hitro pogledali kaj točno dani podatki vsebujejo. Link do podatkov(https://www.kaggle.com/russellyates88/suicide-rates-overview-1985-to-2016).\n",
    "\n",
    "Vse podatke ki smo jih dobili s spletne strani Kaggle hranimo v datoteki \"master.csv\".\n",
    "\n",
    "Vsak podatek v tej zbirki ima naslednje atribute:\n",
    "* *country:* država v kateri so bili zabeleženi samomori.\n",
    "* *year:* leto na katerega se nanašajo podatki.\n",
    "* *sex:* spol starostne skupine za to leto.\n",
    "* *age_group:* starostna skupina.\n",
    "* *count_of_suicides:* število samomorov za to leto.\n",
    "* *population:* število oseb določenega spola v tem letu, za to starostno skupino.\n",
    "* *suicide_rate:* pogostost samomorov - število samomorov na 100 tisoč ljudi.\n",
    "* *country-year_composite_key:* država-leto ključ.\n",
    "* *HDI_for_year:* indeks človekovega razvoja (izračunano iz življenjske dobe, stopnje izobrazbe in življenjske ravni).\n",
    "* *GDP_for_year:* bruto domači proizvod države za tisto leto.\n",
    "* *GDP_per_capita:* bruto domači proizvod na prebivalca države za tisto leto.\n",
    "* *generation:* generacija (temelji na povprečju starostne skupine).\n",
    "\n",
    "S pomočjo zgoraj naštetih atributov bomo v vmesnem poročilu podatke prebrali, ter jih vizualno predstavili.\n"
   ]
  },
  {
   "cell_type": "markdown",
   "metadata": {},
   "source": [
    "### Pridobivanje podatkov\n",
    "\n",
    "S preprosto funkcijo smo prebrali podatke iz datoteke \"master.csv\", v pandas dataframe, s pomočjo katerega smo jih obdelali in prestavili vizualno. Ugotovili smo, da je za leto 2016 zelo malo podatkov, zato se nanje ne moremo zanesti, saj prikazujejo zelo visok skok v ravni samomorv. Prav tako je DHI zelo velikokrat enak null, zato smo te dva podatka odstranili."
   ]
  },
  {
   "cell_type": "markdown",
   "metadata": {},
   "source": [
    "### Nekaj vizualnih predstavitev\n",
    "\n",
    "Ker je tako velika količina podatkov prevelika da bi iz nje lahko kar tako ugotovili določene zanimive lastnosti, smo se odločili da bomo najprej naredili nekaj grafov da dobimo občutek s čem imamo opravka, in da predstavimo nekatere bolj zanimive podatke."
   ]
  },
  {
   "cell_type": "markdown",
   "metadata": {},
   "source": [
    "Pri spodnji kodi smo uporabili stopnjo samomorov, saj le ta ni odvisna od populacije države."
   ]
  },
  {
   "cell_type": "markdown",
   "metadata": {},
   "source": [
    "![Alt text](images/seznam.png?raw=true \"Države z največ samomori\")"
   ]
  },
  {
   "cell_type": "markdown",
   "metadata": {},
   "source": [
    "Ugotovili smo, da je slovenija kar visoko na tej lestvici, ter tudi, da je veliko držav na vrhu lestvice severnjaških držav.\n",
    "\n",
    "Spodaj je število vseh samomorov v podatkovni zbirki, razdeljenih po spolu, kar nam pove, da je stopnja samomorov pri moških več kot trikrat višja kot pri ženskah.\n",
    "\n",
    "![Alt text](images/sex_difference.png?raw=true \"Razlika med spoloma\")"
   ]
  },
  {
   "cell_type": "markdown",
   "metadata": {},
   "source": [
    "\n",
    "Zanimalo nas je ali je BDP povezan s stopnjo samomorov, zato smo za vsako državo izračunali povprečni BDP in poveprečno stopnjo samomorov, s pomočjo česar smo naredili spodnji graf. \n",
    "\n",
    "![Alt text](images/GPD_and_suicide_rate.png?raw=true \"BDP in samomori\")\n",
    "\n",
    "\n",
    "Iz grafa je razvidno, da revnejše države nimajo nujno tudi višje stopnje samomorov, kot bi marsikdo pričakoval.\n"
   ]
  },
  {
   "cell_type": "markdown",
   "metadata": {},
   "source": [
    "Naslednji graf prikazuje število samomorov v vsaki starostni skupini, iz njega pa je razvidno, da je samomorov veliko več pri starejših ljudeh, kar smo tudi pričakovali. Na žalost pa se samomori očitno dogajajo tudi pri zelo mladih, a je le teh znatno manj.\n",
    "\n",
    "![Alt text](images/starostne_skupine.png?raw=true \"Starostne skupine\")\n"
   ]
  },
  {
   "cell_type": "markdown",
   "metadata": {},
   "source": [
    "Ker nas je zanimalo kako se število samomorov spreminja s časom smo naredili spodnji graf. Število samomorov v posameznih letih na logaritmičnem grafu.\n",
    "\n",
    "![Alt text](images/po_letih.png?raw=true \"število samomorov po letih\")\n",
    "\n"
   ]
  },
  {
   "cell_type": "markdown",
   "metadata": {},
   "source": [
    "Tu je nekaj zanimivih stvari. Hitro naraščanje samomorov do leta 1995, še posebaj leta 1988 in 1995, potem pa hiter in enakomeren padec. Najbolj presenetljivo pa je leto 2016, kjer je razlika s prejšnjim letom daleč največja.\n",
    "\n",
    "*Koda za zgoraj pridobljene rezultate se nahaja v datoteki project_code.ipynb(https://github.com/np6818/PR19NPZPTK/blob/master/project_code.ipynb)*"
   ]
  },
  {
   "cell_type": "markdown",
   "metadata": {},
   "source": [
    "Naredili smo še nekaj grafov in se na koncu lotili ustvarjanja modelov. Zanimalo nas je kaj dejansko vpliva na samomor, kakšne zanimivosti lahko iz tega potegnemo in ali lahko v prihodnosti kaj popravimo, da zmanjšamo število samomorov. Pri nekaterih izračunih in grafih smo uporabili tudi podatke s spletne strani https://www.wider.unu.edu/project/wiid-world-income-inequality-database, ki nam pomagajo ugotoviti trditev, da je število samomorov večje v državah, kejr je razmerje med prebivalci največje."
   ]
  },
  {
   "cell_type": "markdown",
   "metadata": {},
   "source": [
    "Najprej smo pogledali v kateri starostni skupini, če sploh kakšni, je največ samomorov. Ugotovili smo da jih je daleč največ v zadnjem obdobju življenja in sicer krepko čez polovico. Ljudje starejši od 50ih let se največj ukvarjajo z mislijo o samomoru. Število samomorov je od leta 2013 začelo naraščati.\n",
    "![Alt text](images/samomoriStarostne.png?raw=true \"Starostne skupine\")"
   ]
  },
  {
   "cell_type": "markdown",
   "metadata": {},
   "source": [
    "Države, ki se največkrat uvrstijo v sam vrh po številu samomorov so Rusija, Ukrajina, Južna Koreja in Japonska. Opazimo, da se tudi Slovenija enkrat znajde v vrhu teh statistik, zato nas je zanimalo katere starostne skupine imajo največ problemov s samomori.\n",
    "![Alt text](images/najboljSamomorilne.png?raw=true \"Starostne skupine\")"
   ]
  },
  {
   "cell_type": "markdown",
   "metadata": {},
   "source": [
    "Največ jih je v najstarejših obdobjih življenja, kar postavi vprašanje ali nudimo premalo pozornosti starejšim prebivalcem države.\n",
    "![Alt text](images/sloStarostne.png?raw=true \"Starostne skupine\")"
   ]
  },
  {
   "cell_type": "markdown",
   "metadata": {},
   "source": [
    "Pogledali smo razlike med premoženjem v Sloveniji in ugotovili, da nimajo izrazitega vpliva na število samomorov. To ne pomeni, da ne vplivajo, vendar mi nismo opazili pomembne korelacije.\n",
    "![Alt text](images/giniReported.png?raw=true \"Starostne skupine\")"
   ]
  },
  {
   "cell_type": "markdown",
   "metadata": {},
   "source": [
    "Sicer smo ugotovili, da premoženje ne nujno vpliva na število samomorov, ampak naslednji graf pokaže, da je večje število samomorov pri revnejših prebivalcih, kot je pri bogatejših. Morda zaradi pomankanja denarja ne morejo dobiti stvari, nujnih za življenje?\n",
    "![Alt text](images/gdpStSamomorov.png?raw=true \"Starostne skupine\")"
   ]
  },
  {
   "cell_type": "markdown",
   "metadata": {},
   "source": [
    "Iz zemljevida nam uspe ugotoviti, da se v vrhu po številu samomorov nahajajo revnejše in prenaseljene države. Prevladujejo države Azije, sledijo jim pa Evropa ter Severna Amerika. (Nekatere države niso vključene v datoteko.)\n",
    "![Alt text](images/zemljevidSamomorov.png?raw=true \"Starostne skupine\")"
   ]
  },
  {
   "cell_type": "markdown",
   "metadata": {},
   "source": [
    "Korelacije atributov so pričakovane: število samomorov najbolj sovpada z velikostjo populacije in raven samomorov s številom samomorov.\n",
    "![Alt text](images/korelacija.png?raw=true \"Starostne skupine\")"
   ]
  },
  {
   "cell_type": "markdown",
   "metadata": {},
   "source": [
    "Zgoraj vidimo, da je največ samomorov pri generaciji \"Baby boomers\", predvsem v večjemu številu otrok, kar pomeni tudi več ljudi. Pri drugem grafu pa gledamo raven samomorov, kjer je vodilna generacija \"GI geenration\". V to generacijo spadajo ljudje rojeni med letom 1900 in 1920, to pa so ravno tisti, ki so doživeli svetovni vojni.\n",
    "![Alt text](images/stSamGen.png?raw=true \"Starostne skupine\")\n",
    "![Alt text](images/stSamomorov100kGeneracija.png?raw=true \"Starostne skupine\")"
   ]
  },
  {
   "attachments": {},
   "cell_type": "markdown",
   "metadata": {},
   "source": [
    "Z gini indexom smo pogledali podobnost med premoženjem in številom samomorov na svetu in ugotovili, da nekje do leta 2000 index in število samomorov naraščata nato pa začne število smaomorov padati, med tem ko se gini obrži na relativno enakem indeksu.\n",
    "![Alt text](images/giniWorldIndex.png?raw=true \"Starostne skupine\")"
   ]
  },
  {
   "cell_type": "markdown",
   "metadata": {},
   "source": [
    "Zanimalo nas je pa tudi kvaliteta življenja in njena korelacija s številom samomorov. Ko smo ju prikazali smo ugotovili, da se je število samomorov nižalo, ko je šel kakovostni indeks gor in padalo, ko je šel dol. Trenutno indeks ne vpliva toliko kot je včasih, saj je kvaliteta življenja na dovolj visokem nivoju.\n",
    "![Alt text](images/qualitySlo.png?raw=true \"Starostne skupine\")"
   ]
  }
 ],
 "metadata": {
  "kernelspec": {
   "display_name": "Python 3",
   "language": "python",
   "name": "python3"
  },
  "language_info": {
   "codemirror_mode": {
    "name": "ipython",
    "version": 3
   },
   "file_extension": ".py",
   "mimetype": "text/x-python",
   "name": "python",
   "nbconvert_exporter": "python",
   "pygments_lexer": "ipython3",
   "version": "3.7.1"
  }
 },
 "nbformat": 4,
 "nbformat_minor": 2
}
